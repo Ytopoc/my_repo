{
 "cells": [
  {
   "cell_type": "markdown",
   "metadata": {},
   "source": [
    "Створіть одновимірний масив (вектор) з першими 10-ма натуральними числами та виведіть його значення."
   ]
  },
  {
   "cell_type": "code",
   "execution_count": 2,
   "metadata": {},
   "outputs": [
    {
     "data": {
      "text/plain": [
       "array([0, 1, 2, 3, 4, 5, 6, 7, 8, 9])"
      ]
     },
     "execution_count": 2,
     "metadata": {},
     "output_type": "execute_result"
    }
   ],
   "source": [
    "import numpy as np\n",
    "a = np.arange(10)\n",
    "a"
   ]
  },
  {
   "cell_type": "markdown",
   "metadata": {},
   "source": [
    "Створіть двовимірний масив (матрицю) розміром 3x3, заповніть його нулями та виведіть його значення."
   ]
  },
  {
   "cell_type": "code",
   "execution_count": 3,
   "metadata": {},
   "outputs": [
    {
     "data": {
      "text/plain": [
       "array([[0, 0, 0],\n",
       "       [0, 0, 0],\n",
       "       [0, 0, 0]])"
      ]
     },
     "execution_count": 3,
     "metadata": {},
     "output_type": "execute_result"
    }
   ],
   "source": [
    "a = np.zeros((3,3), dtype=int)\n",
    "a"
   ]
  },
  {
   "cell_type": "markdown",
   "metadata": {},
   "source": [
    "Створіть масив розміром 5x5, заповніть його випадковими цілими числами в діапазоні від 1 до 10 та виведіть його значення."
   ]
  },
  {
   "cell_type": "code",
   "execution_count": 4,
   "metadata": {},
   "outputs": [
    {
     "data": {
      "text/plain": [
       "array([[ 6,  2,  2,  9,  5],\n",
       "       [ 1,  9,  6,  3, 10],\n",
       "       [10,  5, 10,  1,  3],\n",
       "       [ 3,  7, 10,  5,  2],\n",
       "       [ 4,  6,  5, 10,  8]])"
      ]
     },
     "execution_count": 4,
     "metadata": {},
     "output_type": "execute_result"
    }
   ],
   "source": [
    "a = np.random.randint(1, 11, (5,5))\n",
    "a"
   ]
  },
  {
   "cell_type": "markdown",
   "metadata": {},
   "source": [
    "Створіть масив розміром 4x4, заповніть його випадковими дійсними числами в діапазоні від 0 до 1 та виведіть його значення."
   ]
  },
  {
   "cell_type": "code",
   "execution_count": 5,
   "metadata": {},
   "outputs": [
    {
     "data": {
      "text/plain": [
       "array([[0.44213095, 0.60579846, 0.28042798, 0.39748895],\n",
       "       [0.93317815, 0.35222296, 0.85868664, 0.25088146],\n",
       "       [0.32330699, 0.16363641, 0.14101451, 0.77915807],\n",
       "       [0.06028009, 0.22185884, 0.94221924, 0.73494129]])"
      ]
     },
     "execution_count": 5,
     "metadata": {},
     "output_type": "execute_result"
    }
   ],
   "source": [
    "a= np.random.random((4,4))\n",
    "a"
   ]
  },
  {
   "cell_type": "markdown",
   "metadata": {},
   "source": [
    "Створіть два одновимірних масиви розміром 5, заповніть їх випадковими цілими числами в діапазоні від 1 до 10 та виконайте на них поелементні операції додавання, віднімання та множення."
   ]
  },
  {
   "cell_type": "code",
   "execution_count": 6,
   "metadata": {},
   "outputs": [
    {
     "name": "stdout",
     "output_type": "stream",
     "text": [
      "[12 20 11  2 12]\n",
      "[-4  0 -9  0  4]\n",
      "[ 32 100  10   1  32]\n",
      "175\n"
     ]
    }
   ],
   "source": [
    "num_1= np.random.randint(1, 11, (5))\n",
    "num_2= np.random.randint(1, 11, (5))\n",
    "print(num_1 + num_2)\n",
    "print(num_1 - num_2)\n",
    "print(num_1 * num_2)\n",
    "print(np.dot(num_1,num_2))"
   ]
  },
  {
   "cell_type": "markdown",
   "metadata": {},
   "source": [
    "Створіть два вектори розміром 7, заповніть довільними числами та знайдіть їх скалярний добуток."
   ]
  },
  {
   "cell_type": "code",
   "execution_count": 7,
   "metadata": {},
   "outputs": [
    {
     "name": "stdout",
     "output_type": "stream",
     "text": [
      "115\n"
     ]
    }
   ],
   "source": [
    "a= np.random.randint(1, 11, (7))\n",
    "b= np.random.randint(1, 11, (7))\n",
    "print(np.dot(a, b))"
   ]
  },
  {
   "cell_type": "markdown",
   "metadata": {},
   "source": [
    "Створіть дві матриці розміром 2x2 та 2x3, заповніть їх випадковими цілими числами в діапазоні від 1 до 10 та перемножте їх між собою."
   ]
  },
  {
   "cell_type": "code",
   "execution_count": 8,
   "metadata": {},
   "outputs": [
    {
     "name": "stdout",
     "output_type": "stream",
     "text": [
      "[[ 46  96 104]\n",
      " [ 21  83  63]]\n"
     ]
    }
   ],
   "source": [
    "a= np.random.randint(1, 11, (2,2))\n",
    "b= np.random.randint(1, 11, (2,3))  \n",
    "print(np.dot(a,b))"
   ]
  },
  {
   "cell_type": "markdown",
   "metadata": {},
   "source": [
    "Створіть матрицю розміром 3x3, заповніть її випадковими цілими числами в діапазоні від 1 до 10 та знайдіть її обернену матрицю."
   ]
  },
  {
   "cell_type": "code",
   "execution_count": 9,
   "metadata": {},
   "outputs": [
    {
     "name": "stdout",
     "output_type": "stream",
     "text": [
      "[[7 4]\n",
      " [4 2]]\n",
      "\n",
      "\n",
      "[[-1.   2. ]\n",
      " [ 2.  -3.5]]\n"
     ]
    }
   ],
   "source": [
    "a= np.random.randint(1, 11, (2,2))\n",
    "print(a)\n",
    "print('\\n')\n",
    "print(np.linalg.inv(a))"
   ]
  },
  {
   "cell_type": "markdown",
   "metadata": {},
   "source": [
    "Створіть матрицю розміром 4x4, заповніть її випадковими дійсними числами в діапазоні від 0 до 1 та транспонуйте її."
   ]
  },
  {
   "cell_type": "code",
   "execution_count": 10,
   "metadata": {},
   "outputs": [
    {
     "name": "stdout",
     "output_type": "stream",
     "text": [
      "[[0.52081574 0.04009718 0.10505035 0.82900608]\n",
      " [0.62256354 0.0480739  0.2650502  0.93718366]\n",
      " [0.65839632 0.10272189 0.39032493 0.40819937]\n",
      " [0.5228063  0.32755261 0.70154684 0.65493814]]\n",
      "\n",
      "\n",
      "[[0.52081574 0.62256354 0.65839632 0.5228063 ]\n",
      " [0.04009718 0.0480739  0.10272189 0.32755261]\n",
      " [0.10505035 0.2650502  0.39032493 0.70154684]\n",
      " [0.82900608 0.93718366 0.40819937 0.65493814]]\n"
     ]
    }
   ],
   "source": [
    "a= np.random.random((4,4))\n",
    "print(a)\n",
    "print('\\n')\n",
    "print(a.T)"
   ]
  },
  {
   "cell_type": "markdown",
   "metadata": {},
   "source": [
    "Створіть матрицю розміром 3x4 та вектор розміром 4, заповніть їх випадковими цілими числами в діапазоні від 1 до 10 та перемножте матрицю на вектор."
   ]
  },
  {
   "cell_type": "code",
   "execution_count": 11,
   "metadata": {},
   "outputs": [
    {
     "name": "stdout",
     "output_type": "stream",
     "text": [
      "[[ 8  3  9 10]\n",
      " [10  1  7  5]\n",
      " [ 9  2  6  2]]\n",
      "\n",
      "\n",
      "[ 6  3 10  8]\n",
      "\n",
      "\n",
      "[227 173 136]\n"
     ]
    }
   ],
   "source": [
    "a= np.random.randint(1, 11, (3,4))\n",
    "print(a)\n",
    "b= np.random.randint(1, 11, (4))\n",
    "print('\\n')\n",
    "print(b)\n",
    "print('\\n')\n",
    "print(np.dot(a, b))"
   ]
  },
  {
   "cell_type": "markdown",
   "metadata": {},
   "source": [
    "Створіть матрицю розміром 2x3 та вектор розміром 3, заповніть їх випадковими дійсними числами в діапазоні від 0 до 1 та перемножте матрицю на вектор."
   ]
  },
  {
   "cell_type": "code",
   "execution_count": 12,
   "metadata": {},
   "outputs": [
    {
     "name": "stdout",
     "output_type": "stream",
     "text": [
      "[[0.25301783 0.74660673 0.35639887]\n",
      " [0.74232444 0.51106108 0.4563045 ]]\n",
      "\n",
      "\n",
      "[0.86881644 0.94999127 0.88103324]\n",
      "\n",
      "\n",
      "[1.24309518 1.53246668]\n"
     ]
    }
   ],
   "source": [
    "a = np.random.random((2,3))\n",
    "b= np.random.random(3)\n",
    "print(a)\n",
    "print('\\n')\n",
    "print(b)\n",
    "print('\\n')\n",
    "print(np.dot(a, b))"
   ]
  },
  {
   "cell_type": "markdown",
   "metadata": {},
   "source": [
    "Створіть дві матриці розміром 2x2, заповніть їх випадковими цілими числами в діапазоні від 1 до 10 та виконайте їхнє поелементне множення."
   ]
  },
  {
   "cell_type": "code",
   "execution_count": 13,
   "metadata": {},
   "outputs": [
    {
     "name": "stdout",
     "output_type": "stream",
     "text": [
      "[[5 8]\n",
      " [9 7]]\n",
      "\n",
      "\n",
      "[[10  9]\n",
      " [ 1  1]]\n",
      "\n",
      "\n",
      "[[50 72]\n",
      " [ 9  7]]\n"
     ]
    }
   ],
   "source": [
    "a= np.random.randint(1, 11, (2,2))\n",
    "print(a)\n",
    "b= np.random.randint(1, 11, (2,2))\n",
    "print('\\n')\n",
    "print(b)\n",
    "print('\\n')\n",
    "print(a*b)"
   ]
  },
  {
   "cell_type": "markdown",
   "metadata": {},
   "source": [
    "Створіть дві матриці розміром 2x2, заповніть їх випадковими цілими числами в діапазоні від 1 до 10 та знайдіть їх добуток."
   ]
  },
  {
   "cell_type": "code",
   "execution_count": 14,
   "metadata": {},
   "outputs": [
    {
     "name": "stdout",
     "output_type": "stream",
     "text": [
      "[[9 7]\n",
      " [1 8]]\n",
      "\n",
      "\n",
      "[[4 4]\n",
      " [7 1]]\n",
      "\n",
      "\n",
      "[[36 28]\n",
      " [ 7  8]] or [[85 43]\n",
      " [60 12]]\n"
     ]
    }
   ],
   "source": [
    "a= np.random.randint(1, 11, (2,2))\n",
    "print(a)\n",
    "b= np.random.randint(1, 11, (2,2))\n",
    "print('\\n')\n",
    "print(b)\n",
    "print('\\n')\n",
    "print(f'{a*b} or {np.dot(a, b)}')\n"
   ]
  },
  {
   "cell_type": "markdown",
   "metadata": {},
   "source": [
    "Створіть матрицю розміром 5x5, заповніть її випадковими цілими числами в діапазоні від 1 до 100 та знайдіть суму елементів матриці."
   ]
  },
  {
   "cell_type": "code",
   "execution_count": 15,
   "metadata": {},
   "outputs": [
    {
     "name": "stdout",
     "output_type": "stream",
     "text": [
      "[[48 80 78 39 10]\n",
      " [11 12 49 13 63]\n",
      " [52 14 15 32 92]\n",
      " [79  6 15 33 14]\n",
      " [79 50 80 22 62]]\n",
      "\n",
      "\n",
      "1048\n"
     ]
    }
   ],
   "source": [
    "a= np.random.randint(1, 101, (5,5))\n",
    "print(a)\n",
    "print('\\n')\n",
    "print(a.sum())\n"
   ]
  },
  {
   "cell_type": "markdown",
   "metadata": {},
   "source": [
    "Створіть дві матриці розміром 4x4, заповніть їх випадковими цілими числами в діапазоні від 1 до 10 та знайдіть їхню різницю."
   ]
  },
  {
   "cell_type": "code",
   "execution_count": 16,
   "metadata": {},
   "outputs": [
    {
     "name": "stdout",
     "output_type": "stream",
     "text": [
      "[[ 3  9  6  6]\n",
      " [ 1  3  8  2]\n",
      " [ 8  2 10  7]\n",
      " [ 5  9 10  6]]\n",
      "\n",
      "\n",
      "[[6 4 9 9]\n",
      " [8 4 3 9]\n",
      " [5 7 6 9]\n",
      " [5 8 6 5]]\n",
      "\n",
      "\n",
      "[[-3  5 -3 -3]\n",
      " [-7 -1  5 -7]\n",
      " [ 3 -5  4 -2]\n",
      " [ 0  1  4  1]]\n"
     ]
    }
   ],
   "source": [
    "a= np.random.randint(1, 11, (4,4))\n",
    "print(a)\n",
    "b= np.random.randint(1, 11, (4,4))\n",
    "print('\\n')\n",
    "print(b)\n",
    "print('\\n')\n",
    "print(a-b)"
   ]
  },
  {
   "cell_type": "markdown",
   "metadata": {},
   "source": [
    "Створіть матрицю розміром 3x3, заповніть її випадковими дійсними числами в діапазоні від 0 до 1 та знайдіть вектор-стовпчик, що містить суму елементів кожного рядка матриці."
   ]
  },
  {
   "cell_type": "code",
   "execution_count": 17,
   "metadata": {},
   "outputs": [
    {
     "name": "stdout",
     "output_type": "stream",
     "text": [
      "[[0.25538558 0.32401756 0.91625343]\n",
      " [0.44722914 0.6425683  0.88557342]\n",
      " [0.19782276 0.26127645 0.26021462]]\n",
      "\n",
      "\n",
      "\n",
      "\n",
      "[[1.49565657]\n",
      " [1.97537086]\n",
      " [0.71931382]]\n"
     ]
    }
   ],
   "source": [
    "a= np.random.random((3,3))\n",
    "print(a)\n",
    "print('\\n')\n",
    "a_1=a[0, 0:].sum()\n",
    "print('\\n')\n",
    "a_2=a[1,0:].sum()\n",
    "a_3=a[2,0:].sum()\n",
    "\n",
    "b= np.array([[a_1], [a_2], [a_3]])\n",
    "print(b)\n",
    "\n"
   ]
  },
  {
   "cell_type": "markdown",
   "metadata": {},
   "source": [
    "Створіть матрицю розміром 3x4 з довільними цілими числами і створінь матрицю з квадратами цих чисел."
   ]
  },
  {
   "cell_type": "code",
   "execution_count": 18,
   "metadata": {},
   "outputs": [
    {
     "name": "stdout",
     "output_type": "stream",
     "text": [
      "[[10  9  1  9]\n",
      " [10  4  7  6]\n",
      " [ 4  5  1  8]]\n",
      "\n",
      "\n",
      "[[100  81   1  81]\n",
      " [100  16  49  36]\n",
      " [ 16  25   1  64]]\n"
     ]
    }
   ],
   "source": [
    "a= np.random.randint(1, 11, (3,4))\n",
    "print(a)\n",
    "print('\\n')\n",
    "print(a**2)"
   ]
  },
  {
   "cell_type": "markdown",
   "metadata": {},
   "source": [
    "Створіть вектор розміром 4, заповніть його випадковими цілими числами в діапазоні від 1 до 50 та знайдіть вектор з квадратними коренями цих чисел."
   ]
  },
  {
   "cell_type": "code",
   "execution_count": 19,
   "metadata": {},
   "outputs": [
    {
     "name": "stdout",
     "output_type": "stream",
     "text": [
      "[26 25 35 45]\n",
      "\n",
      "\n",
      "[5.09901951 5.         5.91607978 6.70820393]\n"
     ]
    }
   ],
   "source": [
    "a= np.random.randint(1, 51, (4))\n",
    "print(a)\n",
    "print('\\n')\n",
    "print(a**0.5)"
   ]
  }
 ],
 "metadata": {
  "kernelspec": {
   "display_name": "Python 3",
   "language": "python",
   "name": "python3"
  },
  "language_info": {
   "codemirror_mode": {
    "name": "ipython",
    "version": 3
   },
   "file_extension": ".py",
   "mimetype": "text/x-python",
   "name": "python",
   "nbconvert_exporter": "python",
   "pygments_lexer": "ipython3",
   "version": "3.12.1"
  }
 },
 "nbformat": 4,
 "nbformat_minor": 2
}
