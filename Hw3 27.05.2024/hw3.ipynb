{
 "cells": [
  {
   "cell_type": "code",
   "execution_count": 1,
   "metadata": {},
   "outputs": [],
   "source": [
    "import numpy as np\n",
    "from sklearn.linear_model import LinearRegression\n",
    "import pandas as pd\n",
    "import matplotlib.pyplot as plt\n"
   ]
  },
  {
   "cell_type": "code",
   "execution_count": 2,
   "metadata": {},
   "outputs": [],
   "source": [
    "#напишіть функцію гіпотези лінійної регресії у векторному вигляді;\n",
    "def hipotesa(X, omega):\n",
    "    return np.dot(X, omega)"
   ]
  },
  {
   "cell_type": "code",
   "execution_count": 3,
   "metadata": {},
   "outputs": [],
   "source": [
    "#створіть функцію для обчислення функції втрат у векторному вигляді;\n",
    "def loss(X, y, omega):\n",
    "    m=y.shape[0]\n",
    "    prediction = hipotesa(X, omega)\n",
    "    vtrati = (1/(2*m)) * np.sum((prediction-y) **2 )\n",
    "    return vtrati"
   ]
  },
  {
   "cell_type": "code",
   "execution_count": 4,
   "metadata": {},
   "outputs": [],
   "source": [
    "#реалізуйте один крок градієнтного спуску \n",
    "def gradient(X, y, omega, alpha):\n",
    "    m = y.shape[0]\n",
    "    prediction = hipotesa(X, omega)\n",
    "    gradient = (1 / m) * np.dot(X.T, (prediction - y))\n",
    "    omega = omega - alpha * gradient\n",
    "    return omega "
   ]
  },
  {
   "cell_type": "code",
   "execution_count": 5,
   "metadata": {},
   "outputs": [],
   "source": [
    "#знайдіть найкращі параметри для датасету використовуючи написані вами функції, \n",
    "#прогнозуючу ціну на будинок залежно від площі, кількості ванних кімнат та кількості спалень;\n",
    "df = pd.read_csv('Housing.csv')\n",
    "df.head()\n",
    "X = df[['area', 'bedrooms', 'bathrooms']].values\n",
    "y= df['price'].values.reshape(-1, 1)\n",
    "X = np.hstack([np.ones((X.shape[0], 1)), X])\n"
   ]
  },
  {
   "cell_type": "code",
   "execution_count": 6,
   "metadata": {},
   "outputs": [],
   "source": [
    "w_initial = np.zeros((X.shape[1], 1))\n",
    "alpha = 0.00000001\n",
    "num_iterations = 10000\n",
    "\n",
    "\n"
   ]
  },
  {
   "cell_type": "code",
   "execution_count": 7,
   "metadata": {},
   "outputs": [
    {
     "data": {
      "text/plain": [
       "array([[4.76672925e-02],\n",
       "       [2.67229201e+02],\n",
       "       [1.46390263e-01],\n",
       "       [6.61666767e-02]])"
      ]
     },
     "execution_count": 7,
     "metadata": {},
     "output_type": "execute_result"
    }
   ],
   "source": [
    "for _ in range(num_iterations):\n",
    "    w= gradient(X, y, w_initial , alpha)\n",
    "\n",
    "w\n"
   ]
  },
  {
   "cell_type": "code",
   "execution_count": 8,
   "metadata": {},
   "outputs": [
    {
     "name": "stdout",
     "output_type": "stream",
     "text": [
      "Параметри за допомогою нормального рівняння: [[-1.73171608e+05]\n",
      " [ 3.78762754e+02]\n",
      " [ 4.06820034e+05]\n",
      " [ 1.38604950e+06]]\n",
      "Параметри з використанням LinearRegression: [[-1.73171608e+05]\n",
      " [ 3.78762754e+02]\n",
      " [ 4.06820034e+05]\n",
      " [ 1.38604950e+06]]\n"
     ]
    }
   ],
   "source": [
    "def normal_equation(X, y):\n",
    "    return np.linalg.inv(X.T.dot(X)).dot(X.T).dot(y)\n",
    "\n",
    "w_normal = normal_equation(X, y)\n",
    "print(\"Параметри за допомогою нормального рівняння:\", w_normal)\n",
    "\n",
    "#знайдіть ці ж параметри за допомогою аналітичного рішення;\n",
    "model = LinearRegression()\n",
    "model.fit(X[:, 1:], y)  \n",
    "\n",
    "\n",
    "w_sklearn = np.vstack(([model.intercept_], model.coef_.T))\n",
    "print(\"Параметри з використанням LinearRegression:\", w_sklearn)\n"
   ]
  }
 ],
 "metadata": {
  "kernelspec": {
   "display_name": "Python 3",
   "language": "python",
   "name": "python3"
  },
  "language_info": {
   "codemirror_mode": {
    "name": "ipython",
    "version": 3
   },
   "file_extension": ".py",
   "mimetype": "text/x-python",
   "name": "python",
   "nbconvert_exporter": "python",
   "pygments_lexer": "ipython3",
   "version": "3.12.1"
  }
 },
 "nbformat": 4,
 "nbformat_minor": 2
}
