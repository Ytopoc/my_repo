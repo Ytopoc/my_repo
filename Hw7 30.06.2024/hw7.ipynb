{
 "cells": [
  {
   "cell_type": "code",
   "execution_count": 16,
   "metadata": {},
   "outputs": [
    {
     "name": "stdout",
     "output_type": "stream",
     "text": [
      "Evaluating RMSE, MAE of algorithm SVD on 5 split(s).\n",
      "\n",
      "                  Fold 1  Fold 2  Fold 3  Fold 4  Fold 5  Mean    Std     \n",
      "RMSE (testset)    0.9291  0.9409  0.9403  0.9357  0.9364  0.9365  0.0042  \n",
      "MAE (testset)     0.7349  0.7425  0.7385  0.7374  0.7395  0.7386  0.0025  \n",
      "Fit time          0.69    0.69    0.69    0.67    0.73    0.69    0.02    \n",
      "Test time         0.07    0.07    0.15    0.07    0.07    0.09    0.03    \n"
     ]
    },
    {
     "data": {
      "text/plain": [
       "{'test_rmse': array([0.92914897, 0.9409365 , 0.94029902, 0.93566202, 0.93641428]),\n",
       " 'test_mae': array([0.73493118, 0.7424749 , 0.73852417, 0.73743356, 0.73949686]),\n",
       " 'fit_time': (0.6884725093841553,\n",
       "  0.6894207000732422,\n",
       "  0.6888296604156494,\n",
       "  0.6725687980651855,\n",
       "  0.7325708866119385),\n",
       " 'test_time': (0.07166934013366699,\n",
       "  0.06575679779052734,\n",
       "  0.15434837341308594,\n",
       "  0.06745672225952148,\n",
       "  0.06780076026916504)}"
      ]
     },
     "execution_count": 16,
     "metadata": {},
     "output_type": "execute_result"
    }
   ],
   "source": [
    "from surprise import SVD ,SVDpp ,NMF\n",
    "from surprise import Dataset\n",
    "from surprise.model_selection import cross_validate \n",
    "\n",
    "data = Dataset.load_builtin('ml-100k')\n",
    "\n",
    "algo_svd = SVD()\n",
    "algo_svdpp = SVDpp()\n",
    "algo_nmf = NMF()\n",
    "\n"
   ]
  },
  {
   "cell_type": "code",
   "execution_count": 17,
   "metadata": {},
   "outputs": [
    {
     "name": "stdout",
     "output_type": "stream",
     "text": [
      "Evaluating RMSE, MAE of algorithm SVD on 5 split(s).\n",
      "\n",
      "                  Fold 1  Fold 2  Fold 3  Fold 4  Fold 5  Mean    Std     \n",
      "RMSE (testset)    0.9371  0.9413  0.9340  0.9389  0.9319  0.9367  0.0033  \n",
      "MAE (testset)     0.7393  0.7438  0.7351  0.7391  0.7341  0.7383  0.0035  \n",
      "Fit time          0.77    0.77    0.71    0.69    0.71    0.73    0.03    \n",
      "Test time         0.08    0.07    0.16    0.07    0.07    0.09    0.04    \n"
     ]
    },
    {
     "data": {
      "text/plain": [
       "{'test_rmse': array([0.93711415, 0.94126629, 0.93404305, 0.93893974, 0.93190896]),\n",
       " 'test_mae': array([0.73931675, 0.74382972, 0.73505147, 0.73906078, 0.73414639]),\n",
       " 'fit_time': (0.7716002464294434,\n",
       "  0.7692422866821289,\n",
       "  0.7123997211456299,\n",
       "  0.6871521472930908,\n",
       "  0.7083594799041748),\n",
       " 'test_time': (0.07788872718811035,\n",
       "  0.07291722297668457,\n",
       "  0.1590743064880371,\n",
       "  0.06783556938171387,\n",
       "  0.06807398796081543)}"
      ]
     },
     "execution_count": 17,
     "metadata": {},
     "output_type": "execute_result"
    }
   ],
   "source": [
    "#SVD\n",
    "cross_validate(algo_svd, data, measures=['RMSE', 'MAE'], cv=5, verbose=True)\n"
   ]
  },
  {
   "cell_type": "code",
   "execution_count": 18,
   "metadata": {},
   "outputs": [
    {
     "name": "stdout",
     "output_type": "stream",
     "text": [
      "Evaluating RMSE, MAE of algorithm SVDpp on 5 split(s).\n",
      "\n",
      "                  Fold 1  Fold 2  Fold 3  Fold 4  Fold 5  Mean    Std     \n",
      "RMSE (testset)    0.9187  0.9225  0.9156  0.9196  0.9241  0.9201  0.0030  \n",
      "MAE (testset)     0.7229  0.7246  0.7211  0.7208  0.7222  0.7223  0.0013  \n",
      "Fit time          13.45   13.50   13.45   13.58   13.50   13.49   0.05    \n",
      "Test time         2.47    2.45    2.54    2.41    2.45    2.47    0.04    \n"
     ]
    },
    {
     "data": {
      "text/plain": [
       "{'test_rmse': array([0.91869155, 0.92249531, 0.91563916, 0.91960165, 0.92410982]),\n",
       " 'test_mae': array([0.7229134 , 0.72455318, 0.72112173, 0.72084656, 0.72224283]),\n",
       " 'fit_time': (13.452649354934692,\n",
       "  13.49640440940857,\n",
       "  13.445499420166016,\n",
       "  13.580013990402222,\n",
       "  13.498778343200684),\n",
       " 'test_time': (2.465998888015747,\n",
       "  2.449594736099243,\n",
       "  2.5447583198547363,\n",
       "  2.4145312309265137,\n",
       "  2.451108694076538)}"
      ]
     },
     "execution_count": 18,
     "metadata": {},
     "output_type": "execute_result"
    }
   ],
   "source": [
    "#SVD++\n",
    "cross_validate(algo_svdpp, data, measures=['RMSE', 'MAE'], cv=5, verbose=True)\n"
   ]
  },
  {
   "cell_type": "code",
   "execution_count": 20,
   "metadata": {},
   "outputs": [
    {
     "name": "stdout",
     "output_type": "stream",
     "text": [
      "Evaluating RMSE, MAE of algorithm NMF on 5 split(s).\n",
      "\n",
      "                  Fold 1  Fold 2  Fold 3  Fold 4  Fold 5  Mean    Std     \n",
      "RMSE (testset)    0.9672  0.9583  0.9659  0.9654  0.9639  0.9641  0.0031  \n",
      "MAE (testset)     0.7597  0.7548  0.7596  0.7567  0.7569  0.7575  0.0019  \n",
      "Fit time          1.43    1.47    1.46    1.38    1.41    1.43    0.03    \n",
      "Test time         0.17    0.06    0.06    0.06    0.06    0.08    0.05    \n"
     ]
    },
    {
     "data": {
      "text/plain": [
       "{'test_rmse': array([0.9672341 , 0.95825912, 0.96591438, 0.96538446, 0.96389527]),\n",
       " 'test_mae': array([0.75973868, 0.75478924, 0.75964317, 0.75668493, 0.75685485]),\n",
       " 'fit_time': (1.4331555366516113,\n",
       "  1.4726006984710693,\n",
       "  1.45530366897583,\n",
       "  1.377826452255249,\n",
       "  1.410367488861084),\n",
       " 'test_time': (0.17257404327392578,\n",
       "  0.059967756271362305,\n",
       "  0.059888601303100586,\n",
       "  0.05773138999938965,\n",
       "  0.05769801139831543)}"
      ]
     },
     "execution_count": 20,
     "metadata": {},
     "output_type": "execute_result"
    }
   ],
   "source": [
    "#NMF\n",
    "cross_validate(algo_nmf, data, measures=['RMSE', 'MAE'], cv=5, verbose=True)\n",
    "#Краще всього підходить алгоритм NMF"
   ]
  },
  {
   "cell_type": "code",
   "execution_count": null,
   "metadata": {},
   "outputs": [],
   "source": []
  }
 ],
 "metadata": {
  "kernelspec": {
   "display_name": "Python 3",
   "language": "python",
   "name": "python3"
  },
  "language_info": {
   "codemirror_mode": {
    "name": "ipython",
    "version": 3
   },
   "file_extension": ".py",
   "mimetype": "text/x-python",
   "name": "python",
   "nbconvert_exporter": "python",
   "pygments_lexer": "ipython3",
   "version": "3.12.1"
  }
 },
 "nbformat": 4,
 "nbformat_minor": 2
}
